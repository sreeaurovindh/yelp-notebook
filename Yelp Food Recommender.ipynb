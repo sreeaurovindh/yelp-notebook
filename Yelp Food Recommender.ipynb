{
 "cells": [
  {
   "cell_type": "markdown",
   "metadata": {},
   "source": [
    "## Yelp Food recommender"
   ]
  },
  {
   "cell_type": "markdown",
   "metadata": {},
   "source": [
    "### Problem Statement:\n",
    "\n",
    "\n",
    "Yelp is the collection of reviews crowd-sourced by vari-ous users and has become a key product when custom-ers tend to make their restaurant choices. Each customer writes their reviews based on the various      experience they face during their visit to the restaurant. Customer’s choice of the restaurant can depend on a   variety of fac-tors like the name of the food item, quality of the food item, and the variety of other restaurant attributes like location, cost, and service. In addition, business owners would also like to prioritize on which items to improve and what attributes of the restaurant should be improved based on the reviews.\n",
    "\n",
    "\n",
    "This Project was done by a team of four . We attempted to address the following Questions.  The entire project can be found at https://github.com/sreeaurovindh/yelp-dv . \n",
    "\n",
    "The following were the set of questions we addressed in the project\n",
    "\n",
    "1.\tHow do the restaurant perceptions change over time? \n",
    "2.\tHow do people perceive my restaurant’s   food quality when compared to my neighborhood? \n",
    "3.\tWhat factors influence the opinion of restaurants in my neighborhood?\n",
    "4.\tHow to choose the restaurant based on my geo-location and category preferences? \n",
    "5.\tWhat restaurants will my friends be interested in?” \n",
    "\n",
    "\n",
    "The report of this project can be found at  https://github.com/sreeaurovindh/sreeaurovindh.github.io/blob/master/yelp-files/visualization_report.pdf\n"
   ]
  },
  {
   "cell_type": "markdown",
   "metadata": {},
   "source": [
    "### Project Demo"
   ]
  },
  {
   "cell_type": "code",
   "execution_count": 15,
   "metadata": {},
   "outputs": [
    {
     "data": {
      "text/html": [
       "<iframe width=\"560\" height=\"315\" src=\"https://www.youtube.com/embed/cnacb2HXgD8?rel=0&amp;controls=0&amp;showinfo=0\" frameborder=\"0\" allowfullscreen></iframe>"
      ],
      "text/plain": [
       "<IPython.core.display.HTML object>"
      ]
     },
     "execution_count": 15,
     "metadata": {},
     "output_type": "execute_result"
    }
   ],
   "source": [
    "from IPython.display import HTML\n",
    "\n",
    "# Youtube\n",
    "HTML('<iframe width=\"560\" height=\"315\" src=\"https://www.youtube.com/embed/cnacb2HXgD8?rel=0&amp;controls=0&amp;showinfo=0\" frameborder=\"0\" allowfullscreen></iframe>')\n"
   ]
  },
  {
   "cell_type": "markdown",
   "metadata": {},
   "source": [
    "### My Work\n",
    "\n",
    "\n",
    "The following contains source code and description of my work along with project source code. My work included.\n",
    "1. Data Extraction \n",
    "2. Computation of Polarity Score\n",
    "3. Visualization to address questions 1 and 2.\n"
   ]
  },
  {
   "cell_type": "markdown",
   "metadata": {},
   "source": [
    "### Data Description\n",
    "The data was present as Json Files. Each file composed of a single object type , one JSON-object per line. Yelp Data set examples can be found at https://github.com/Yelp/dataset-examples\n",
    "\n",
    "The documentation can be found at https://www.yelp.com/dataset/documentation/json \n",
    "\n",
    "The total data is persisted with five json files. They are\n",
    "1. business.json => Contains business_id,name,address,city,state,postal code,latitude,longitude ,stars,review_count etc.  \n",
    "2. review.json => Contains review_id,user_id,business_id,stars,date,text,useful,funny,cool\n",
    "3. user.json => Contains user_id,name,review_count, yelping_since, friends,useful,funny,cool,fans etc..\n",
    "4. checkin.json => time, business_id\n",
    "5. tip.json => text,date,likes,business_id,user_id\n",
    "6. photos (from auxillary file)"
   ]
  },
  {
   "cell_type": "markdown",
   "metadata": {},
   "source": [
    "## Data Processing Infrastructure\n"
   ]
  },
  {
   "cell_type": "code",
   "execution_count": 11,
   "metadata": {},
   "outputs": [
    {
     "data": {
      "text/html": [
       "<img src=\"https://github.com/sreeaurovindh/sreeaurovindh.github.io/raw/master/yelp-files/infrastructure.jpg\"/>"
      ],
      "text/plain": [
       "<IPython.core.display.Image object>"
      ]
     },
     "execution_count": 11,
     "metadata": {},
     "output_type": "execute_result"
    }
   ],
   "source": [
    "from IPython.display import Image\n",
    "Image(url='https://github.com/sreeaurovindh/sreeaurovindh.github.io/raw/master/yelp-files/infrastructure.jpg')"
   ]
  },
  {
   "cell_type": "markdown",
   "metadata": {},
   "source": [
    "\n",
    "#### Wikipedia Scraper\n",
    "An initial set of cuisines were extracted from Yelp da-taset. For each cuisine, a set of Wikipedia pages were extracted by Google search. For each page, all the cui-sine names were scraped by using Scrapy (a python library). These data are then stored in separate JSON files\n",
    "\n",
    "#### Query Engine and Apache Solr\n",
    "The entire review text was put into a Lucene which has tokenization and full-text search capabilities inbuilt to it. The Query engine takes the Wikipedia pairs (cuisine, food item) and queries each food item and makes a full-text search on the Solr index. This returns the set of re-views for each food item. Now the sentence containing the food item is extracted out and is stored as a JSON file.\n",
    "\n",
    "#### Sentiment Analyser\n",
    "For each sentence obtained from the Solr output, the   sentiment (polarity) of the sentence is extracted. These data are then passed and stored into MongoDB for further querying.\n",
    "\n",
    "#### Aspect Processing\n",
    "A very simple way to describe this process is to identify nouns in the sentence and then look for nearest adjec-tives around it. There are obvious shortcomings of the above approach and are overcome by extracting syntac-tic      dependencies between words and output word forms by the Stanford CoreNLP tool. We used open source libraries that use Stanford’s tool to extract vari-ous noun and the adjective pairs and these pairs are stored in JSON. These pairs of data are called Attribute Pairs. For example, some of the attribute pairs include (corn, sweet), (ambiance, horrible). The overall natural language processing time for the extraction of 2.5 GB of data was high. Hence we used an optimized amazon EC2 Linux cluster machines to parallelize this process and the resultant   output was collected back to a single machine.\n",
    "\n",
    "#### Full Text Search for specific food items\n",
    "We used Full text search inorder to extract food items and its relevent polarity(Sentiment) value. \n"
   ]
  },
  {
   "cell_type": "markdown",
   "metadata": {},
   "source": [
    "### Perform Full Text Search by using Apache Solr and update Mongodb Database\n",
    "\n",
    "The following source code extracts the \"sentence\" that contains the name of the food item and computs its polarity. The output is stored in MongoDB"
   ]
  },
  {
   "cell_type": "code",
   "execution_count": null,
   "metadata": {
    "collapsed": true
   },
   "outputs": [],
   "source": [
    "from SolrClient import SolrClient\n",
    "from vaderSentiment.vaderSentiment import SentimentIntensityAnalyzer\n",
    "#Imported by easy_install vaderSentiment\n",
    "#Obtained from https://github.com/cjhutto/vaderSentiment\n",
    "import json\n",
    "import iso8601\n",
    "from pymongo import MongoClient\n",
    "\n",
    "json_file_name = \"D:\\\\Dropbox\\\\dv\\\\cusine_names\\\\Cusinies\\\\American.json\"\n",
    "category_name = \"American (Traditional)\"\n",
    "json_file_out = \"D:\\\\Dropbox\\\\dv\\\\cusine_names\\\\Cusinies_out\\\\American_output.json\"\n",
    "solr = SolrClient('http://localhost:8983/solr')\n",
    "\n",
    "#Mongodb connection Parameters\n",
    "client = MongoClient('mongodb://localhost:27017/')\n",
    "db = client['yelp_dv']\n",
    "food_business = db.food_business\n",
    "\n",
    "# Open Output file\n",
    "f = open(json_file_out, 'w')\n",
    "result = []\n",
    "analyzer = SentimentIntensityAnalyzer()\n",
    "index = 0\n",
    "\n",
    "with open(json_file_name) as json_data:\n",
    "    #Load Json File\n",
    "    file_jsons = json.load(json_data)\n",
    "    for item in file_jsons:\n",
    "        #Extract Food Item name \n",
    "        food_name = item['foodItem'].lower()\n",
    "        data = '\"'+food_name+'\"'\n",
    "        text_data=  '_text_:%s' %data\n",
    "        #Query the Solr Index\n",
    "        for res in  solr.paging_query('review_core',{'q':text_data},rows=10000):\n",
    "        #Get all values of Review Record\n",
    "            if res.get_results_count() > 0:\n",
    "                print(food_name,res.get_results_count())\n",
    "                \n",
    "                json_doc = json.loads(res.get_json())\n",
    "                output = json_doc['response']['docs']\n",
    "                for review_recd in output:\n",
    "                    review_text = review_recd['text'][0]\n",
    "                    business_id = review_recd['business_id'][0]\n",
    "                    review_id = review_recd['review_id'][0]\n",
    "                    stars = review_recd['stars'][0]\n",
    "                    timestamp_str = review_recd['date'][0]\n",
    "                    useful = review_recd['useful'][0]\n",
    "                    funny = review_recd['funny'][0]\n",
    "                    try:\n",
    "                        all_sentences = [sentence for sentence in review_text.lower()\n",
    "                                         .split('.') if food_name in sentence]\n",
    "                        if len(all_sentences) == 0:\n",
    "                            all_sentences = [review_text]\n",
    "                            \n",
    "                        max_polarity = -2\n",
    "                        sentence_review = \"\"\n",
    "                        for sentence in all_sentences:\n",
    "                            vs = analyzer.polarity_scores(sentence)\n",
    "                            polarity_Score = vs['compound']\n",
    "                            if polarity_Score > max_polarity:\n",
    "                                max_polarity = polarity_Score\n",
    "                            sentence_review = sentence_review + sentence\n",
    "                            \n",
    "                        #Get Business Name from business ID\n",
    "                        business_name=food_business.find_one({\"business_id\":business_id })['name']\n",
    "                        \n",
    "                \n",
    "                        #print(polarity_Score,max_polarity)   \n",
    "                        data = {}\n",
    "                        data['item'] = food_name\n",
    "                        data['polarity'] = max_polarity\n",
    "                        data['business_id'] = business_id\n",
    "                        data['review_id'] = review_id\n",
    "                        data['stars'] = stars\n",
    "                        data['date']  = iso8601.parse_date(timestamp_str).strftime('%Y-%m-%d')\n",
    "                        data['useful'] = useful\n",
    "                        data['is_review'] = 1\n",
    "                        data['is_tip'] = 0\n",
    "                        data['name'] = business_name\n",
    "                        data['review_sentence'] = all_sentences[0]\n",
    "                        data['category'] = category_name\n",
    "                        index \n",
    "                        json_data_out = json.dumps(data)\n",
    "                        f.write(json_data_out+'\\n')\n",
    "                                \n",
    "                    except Exception as e:\n",
    "                        print(e)\n",
    "                        pass\n",
    "            dd\n",
    "    f.close()"
   ]
  },
  {
   "cell_type": "markdown",
   "metadata": {},
   "source": [
    "## Business Questions"
   ]
  },
  {
   "cell_type": "markdown",
   "metadata": {},
   "source": [
    "## How do people perceive my restaurant’s food quality when compared to my neighborhood?"
   ]
  },
  {
   "cell_type": "markdown",
   "metadata": {},
   "source": [
    "Inorder to understand how food quality had changed in comparision to the neighborhood, we used a bubble chart indicating various food items. \n",
    "\n",
    "The popularity of the item across the restaurant is denoted by the radius of the circle. Color of the circle denotes the name of the dish.  The colors are chosen to keep in mind visual clarity in times of overlap. The x-axis of the graph corresponds to the star rating of the restau-raant and y-axis corresponds to the review count or pop-ularity of the restaurant.  The user can explore the region by hovering on a specific bubble which represents the restaurant."
   ]
  },
  {
   "cell_type": "code",
   "execution_count": 26,
   "metadata": {},
   "outputs": [
    {
     "data": {
      "text/html": [
       "<img src=\"https://github.com/sreeaurovindh/sreeaurovindh.github.io/raw/master/yelp-files/Food_items.jpg\" width=\"700\" height=\"250\"/>"
      ],
      "text/plain": [
       "<IPython.core.display.Image object>"
      ]
     },
     "execution_count": 26,
     "metadata": {},
     "output_type": "execute_result"
    }
   ],
   "source": [
    "from IPython.display import Image\n",
    "Image(url='https://github.com/sreeaurovindh/sreeaurovindh.github.io/raw/master/yelp-files/Food_items.jpg', width=700, height=250)"
   ]
  },
  {
   "cell_type": "markdown",
   "metadata": {},
   "source": [
    "Hoevering over a circle would highlight two bubbles on the screen. The first one for the target restaurant(blue strong border) and the other denoting the aggregation polarity score of neighborhood restaurants A border around the circle is provided to illustrate the current restaurant with a dotted circle is used to indicate the restaurants in the neighborhood. All the other food items of the neighboring restaurants are faded away."
   ]
  },
  {
   "cell_type": "code",
   "execution_count": 25,
   "metadata": {},
   "outputs": [
    {
     "data": {
      "text/html": [
       "<img src=\"https://github.com/sreeaurovindh/sreeaurovindh.github.io/raw/master/yelp-files/food_items_select.jpg\" width=\"700\" height=\"250\"/>"
      ],
      "text/plain": [
       "<IPython.core.display.Image object>"
      ]
     },
     "execution_count": 25,
     "metadata": {},
     "output_type": "execute_result"
    }
   ],
   "source": [
    "from IPython.display import Image\n",
    "Image(url='https://github.com/sreeaurovindh/sreeaurovindh.github.io/raw/master/yelp-files/food_items_select.jpg', width=700, height=250)"
   ]
  },
  {
   "cell_type": "markdown",
   "metadata": {},
   "source": [
    "### Mongodb Code used to extract Food Quality Comparisions in the neighborhood"
   ]
  },
  {
   "cell_type": "code",
   "execution_count": 21,
   "metadata": {},
   "outputs": [
    {
     "data": {
      "text/html": [
       "\n",
       "        <iframe\n",
       "            width=\"700\"\n",
       "            height=\"250\"\n",
       "            src=\"https://sreeaurovindh.github.io/yelp-files/food_quality_neighborhood.html\"\n",
       "            frameborder=\"0\"\n",
       "            allowfullscreen\n",
       "        ></iframe>\n",
       "        "
      ],
      "text/plain": [
       "<IPython.lib.display.IFrame at 0x48fd030>"
      ]
     },
     "execution_count": 21,
     "metadata": {},
     "output_type": "execute_result"
    }
   ],
   "source": [
    "from IPython.display import IFrame\n",
    "IFrame('https://sreeaurovindh.github.io/yelp-files/food_quality_neighborhood.html', width=700, height=250)"
   ]
  },
  {
   "cell_type": "markdown",
   "metadata": {},
   "source": [
    "## How do the restaurant perceptions change over time?"
   ]
  },
  {
   "cell_type": "markdown",
   "metadata": {},
   "source": [
    "Inorder to understand how restaurant perceptions change over time, we used a bar chart indicating Percentage of reviews with Poor,Fair, Good and excellant ratings. The intensity map shows how average polarity value of     reviews for the specific restaurant had changed over time. The x-axis denotes time in months while the y-axis shows the distribution of polarity by a sequential color scheme. When we hover over a column, the per-centage of items with a bad polarity/opinion is shown. The user can  explore more about the specific part of that chart by clicking on it. This would take us to our next visualization which explains the specific set of food items."
   ]
  },
  {
   "cell_type": "code",
   "execution_count": 20,
   "metadata": {},
   "outputs": [
    {
     "data": {
      "text/html": [
       "<img src=\"https://github.com/sreeaurovindh/sreeaurovindh.github.io/raw/master/yelp-files/restaurant.png\"/>"
      ],
      "text/plain": [
       "<IPython.core.display.Image object>"
      ]
     },
     "execution_count": 20,
     "metadata": {},
     "output_type": "execute_result"
    }
   ],
   "source": [
    "from IPython.display import Image\n",
    "Image(url='https://github.com/sreeaurovindh/sreeaurovindh.github.io/raw/master/yelp-files/restaurant.png')"
   ]
  },
  {
   "cell_type": "code",
   "execution_count": 22,
   "metadata": {},
   "outputs": [
    {
     "data": {
      "text/html": [
       "\n",
       "        <iframe\n",
       "            width=\"700\"\n",
       "            height=\"250\"\n",
       "            src=\"https://sreeaurovindh.github.io/yelp-files/quality_per_restaurant.html\"\n",
       "            frameborder=\"0\"\n",
       "            allowfullscreen\n",
       "        ></iframe>\n",
       "        "
      ],
      "text/plain": [
       "<IPython.lib.display.IFrame at 0x48fd0f0>"
      ]
     },
     "execution_count": 22,
     "metadata": {},
     "output_type": "execute_result"
    }
   ],
   "source": [
    "from IPython.display import IFrame\n",
    "IFrame('https://sreeaurovindh.github.io/yelp-files/quality_per_restaurant.html', width=700, height=250)"
   ]
  },
  {
   "cell_type": "code",
   "execution_count": 16,
   "metadata": {},
   "outputs": [
    {
     "data": {
      "text/html": [
       "\n",
       "        <iframe\n",
       "            width=\"700\"\n",
       "            height=\"250\"\n",
       "            src=\"https://sreeaurovindh.github.io/yelp-files/food_quality_items.html\"\n",
       "            frameborder=\"0\"\n",
       "            allowfullscreen\n",
       "        ></iframe>\n",
       "        "
      ],
      "text/plain": [
       "<IPython.lib.display.IFrame at 0x48cddb0>"
      ]
     },
     "execution_count": 16,
     "metadata": {},
     "output_type": "execute_result"
    }
   ],
   "source": [
    "from IPython.display import IFrame\n",
    "IFrame('https://sreeaurovindh.github.io/yelp-files/food_quality_items.html', width=700, height=250)"
   ]
  },
  {
   "cell_type": "markdown",
   "metadata": {},
   "source": [
    "### Conclusion:\n",
    "\n",
    "The visual recommender system provides insights about the yelp data to both the business owners and the         customers for taking informed decisions. The system   provides recommendations for the selected user with the help of interactive dashboard which uses a com-bined dataset from Yelp and Wikipedia. Here, we have tried to provide answers to the four questions after ana-lyzing the data.\n",
    "\n",
    "The sentiment analysis implemented on the reviews have provided the system with more insight into the reviews than the normal unprocessed rating. Through this, the system could consolidate and inter-relate all the graphs with respect to both the business user and the customers. The system predominantly uses four graphs to visualize the questions. The initial graph pro-vides a selection guide to various facets based on the distribution of the items inside each category. The food quality over time intensity maps provide us with an overall view of the customer’s change in food quality perception over time. This is      further extended to show the food item quality           comparison and attrib-ute opinion comparison. Finally, the system recom-mends the customer with a list of      restaurants based on their friends’ preferences which are well connected with a concept map."
   ]
  }
 ],
 "metadata": {
  "kernelspec": {
   "display_name": "Python 3",
   "language": "python",
   "name": "python3"
  },
  "language_info": {
   "codemirror_mode": {
    "name": "ipython",
    "version": 3
   },
   "file_extension": ".py",
   "mimetype": "text/x-python",
   "name": "python",
   "nbconvert_exporter": "python",
   "pygments_lexer": "ipython3",
   "version": "3.4.2"
  }
 },
 "nbformat": 4,
 "nbformat_minor": 2
}
